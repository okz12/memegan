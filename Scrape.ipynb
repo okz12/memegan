{
 "cells": [
  {
   "cell_type": "code",
   "execution_count": 40,
   "metadata": {},
   "outputs": [],
   "source": [
    "import pandas as pd\n",
    "#Initialize Selenium\n",
    "from selenium import webdriver\n",
    "import time\n",
    "#get chromedriver from here: https://chromedriver.storage.googleapis.com/index.html?path=2.34/\n",
    "#update path below\n",
    "driver = webdriver.Chrome('C:\\Users\\osman\\OneDrive\\GAN\\memes\\chromedriver.exe')"
   ]
  },
  {
   "cell_type": "code",
   "execution_count": 53,
   "metadata": {},
   "outputs": [
    {
     "name": "stdout",
     "output_type": "stream",
     "text": [
      "1\n",
      "15\n",
      "2\n",
      "29\n",
      "3\n",
      "44\n",
      "4\n",
      "58\n",
      "5\n",
      "73\n",
      "6\n",
      "88\n",
      "7\n",
      "103\n",
      "8\n",
      "118\n",
      "9\n",
      "133\n",
      "10\n",
      "148\n",
      "11\n",
      "163\n",
      "12\n",
      "178\n",
      "13\n",
      "193\n",
      "14\n",
      "206\n",
      "15\n",
      "221\n",
      "16\n",
      "236\n",
      "17\n",
      "251\n",
      "18\n",
      "266\n",
      "19\n",
      "281\n"
     ]
    }
   ],
   "source": [
    "memeFiltered = []\n",
    "\n",
    "#will scrape off pages 1-19\n",
    "for num in range(1,20):\n",
    "    print num\n",
    "    \n",
    "    #Get HTML Source\n",
    "    #Targetting Good Guy Greg alltime popular memes\n",
    "    url = 'https://memegenerator.net/Good-Guy-Greg/images/popular/alltime/page/'+str(num)\n",
    "    driver.get(url)\n",
    "    time.sleep(5)\n",
    "    htmlSource = driver.page_source\n",
    "\n",
    "    #Throw away any HTML without captions (text0 and text1 tags)\n",
    "    htmlList= htmlSource.split(\"\\n\")\n",
    "    memeSrc = []\n",
    "    for htmlSrc in htmlList:\n",
    "        if (\"text0\" in htmlSrc and \"text1\" in htmlSrc):\n",
    "            memeSrc.append(htmlSrc)\n",
    "\n",
    "    #Get meme ID, caption 1 and caption 2      \n",
    "    for meme in memeSrc:\n",
    "        meme_id_r = meme.split(\"&quot;,&quot;text0&quot;:&quot;\")\n",
    "        if (len(meme_id_r)>1):\n",
    "            #if both captions exist\n",
    "            meme_id = meme_id_r[0].split(\"displayName&quot;:&quot;\")[1]\n",
    "            c1_c2=meme_id_r[1].split(\"&quot;,&quot;text1&quot;:&quot;\")\n",
    "            c1=c1_c2[0].replace(\"\\&quot;\",\"\\\"\")\n",
    "            c2=c1_c2[1].split(\"&quot;})\")[0].replace(\"\\&quot;\",\"\\\"\")\n",
    "            memeFiltered.append((meme_id,c1,c2))\n",
    "    print len(list(set(memeFiltered)))\n",
    "    "
   ]
  },
  {
   "cell_type": "code",
   "execution_count": 54,
   "metadata": {},
   "outputs": [],
   "source": [
    "memesDeDuped=list(set(memeFiltered))\n",
    "df=pd.DataFrame(memesDeDuped)\n",
    "df.to_csv(\"gggmemes.csv\", header=False, index=False)"
   ]
  },
  {
   "cell_type": "code",
   "execution_count": null,
   "metadata": {
    "collapsed": true
   },
   "outputs": [],
   "source": []
  }
 ],
 "metadata": {
  "kernelspec": {
   "display_name": "Python 2",
   "language": "python",
   "name": "python2"
  },
  "language_info": {
   "codemirror_mode": {
    "name": "ipython",
    "version": 2
   },
   "file_extension": ".py",
   "mimetype": "text/x-python",
   "name": "python",
   "nbconvert_exporter": "python",
   "pygments_lexer": "ipython2",
   "version": "2.7.13"
  }
 },
 "nbformat": 4,
 "nbformat_minor": 2
}
